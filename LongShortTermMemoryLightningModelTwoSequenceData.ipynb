{
 "cells": [
  {
   "cell_type": "code",
   "execution_count": 7,
   "id": "250f7f9d-7fe6-494d-a051-2a0cb0047847",
   "metadata": {},
   "outputs": [],
   "source": [
    "# Installation Long Shhort-Term Memory with PyTorch + Lightning\n",
    "import torch\n",
    "import torch.nn as nn\n",
    "import torch.nn.functional as f\n",
    "from torch.optim import Adam\n",
    "import lightning as l\n",
    "from torch.utils.data import TensorDataset, DataLoader"
   ]
  },
  {
   "cell_type": "code",
   "execution_count": 9,
   "id": "56f42bc7-65b7-48d4-a328-0b8e97e0a37a",
   "metadata": {},
   "outputs": [],
   "source": [
    "class LightningLSTM(l.LightningModule):\n",
    "    def __init__(self):\n",
    "        super().__init__()\n",
    "        # Input_size refers to the number of features, or variable we have in the training data\n",
    "        # Hidden_size refers to the number of output values \n",
    "        # Auto create Weight and Bias \n",
    "        self.lstm = nn.LSTM(input_size = 1, hidden_size = 1)\n",
    "        \n",
    "    def forward(self, input):\n",
    "        # Transposing a single input row to a single column with view(how many row, how many column)\n",
    "        input_trans = input.view(len(input), 1)\n",
    "        # Pass the data to lstm and tore it in lstm_out \n",
    "        lstm_out, temp = self.lstm(input_trans)\n",
    "        # Because lstm will return a list of STM values from each LSTM unit that unrolled\n",
    "        # And we just want the last STM, we get the data from the last index  \n",
    "        prediction = lstm_out[-1]\n",
    "        return prediction\n",
    "\n",
    "    def configure_optimizers(self):\n",
    "        # lr is learning rate\n",
    "        return Adam(self.parameters(), lr = 0.1)\n",
    "        \n",
    "    def training_step(self, batch, batch_idx):\n",
    "        input_i, label_i = batch\n",
    "        output_i = self.forward(input_i[0])\n",
    "        loss = (output_i - label_i) ** 2\n",
    "\n",
    "        if(label_i == 0):\n",
    "            self.log('out_0', output_i)\n",
    "        else:\n",
    "            self.log('out_1', output_i)\n",
    "        return loss"
   ]
  },
  {
   "cell_type": "code",
   "execution_count": 11,
   "id": "c6924ad3-e4b1-4eda-8c5a-a6c6fb6caf6b",
   "metadata": {},
   "outputs": [],
   "source": [
    "model = LightningLSTM()"
   ]
  },
  {
   "cell_type": "code",
   "execution_count": 13,
   "id": "d7af71af-04a6-4c31-8211-247749fdb63f",
   "metadata": {},
   "outputs": [
    {
     "name": "stdout",
     "output_type": "stream",
     "text": [
      "\n",
      "Now let's compare the observed and predicted values...\n",
      "Company A: Observed = 0, Predicted =  tensor([-0.1695])\n",
      "\n",
      "Now let's compare the observed and predicted values...\n",
      "Company B: Observed = 1, Predicted =  tensor([-0.1748])\n"
     ]
    }
   ],
   "source": [
    "print(\"\\nNow let's compare the observed and predicted values...\")  \n",
    "print(\"Company A: Observed = 0, Predicted = \", model(torch.tensor([0., 0.5, 0.25, 1.])).detach())\n",
    "print(\"\\nNow let's compare the observed and predicted values...\")\n",
    "print(\"Company B: Observed = 1, Predicted = \", model(torch.tensor([1., 0.5, 0.25, 1.])).detach())"
   ]
  },
  {
   "cell_type": "code",
   "execution_count": 19,
   "id": "cca40830-3f0e-4b8a-80dd-4ed87ba69ded",
   "metadata": {},
   "outputs": [],
   "source": [
    "print(\"\\nNow let's compare the observed and predicted values...\")  \n",
    "print(\"Company A: Observed = 0, Predicted = \", model(torch.tensor([0., 0.5, 0.25, 1.])).detach())\n",
    "print(\"\\nNow let's compare the observed and predicted values...\")\n",
    "print(\"Company B: Observed = 1, Predicted = \", model(torch.tensor([1., 0.5, 0.25, 1.])).detach())"
   ]
  },
  {
   "cell_type": "code",
   "execution_count": 25,
   "id": "80ff527e-65c8-4bea-9303-5157ba05d908",
   "metadata": {},
   "outputs": [
    {
     "name": "stderr",
     "output_type": "stream",
     "text": [
      "GPU available: False, used: False\n",
      "TPU available: False, using: 0 TPU cores\n",
      "HPU available: False, using: 0 HPUs\n",
      "\n",
      "  | Name | Type | Params | Mode \n",
      "--------------------------------------\n",
      "0 | lstm | LSTM | 16     | train\n",
      "--------------------------------------\n",
      "16        Trainable params\n",
      "0         Non-trainable params\n",
      "16        Total params\n",
      "0.000     Total estimated model params size (MB)\n",
      "1         Modules in train mode\n",
      "0         Modules in eval mode\n"
     ]
    },
    {
     "name": "stdout",
     "output_type": "stream",
     "text": [
      "Starting training...\n"
     ]
    },
    {
     "data": {
      "application/vnd.jupyter.widget-view+json": {
       "model_id": "c7b66b09955c448ebf91b9ed3b6b2ca4",
       "version_major": 2,
       "version_minor": 0
      },
      "text/plain": [
       "Training: |                                                                                      | 0/? [00:00<…"
      ]
     },
     "metadata": {},
     "output_type": "display_data"
    },
    {
     "name": "stderr",
     "output_type": "stream",
     "text": [
      "`Trainer.fit` stopped: `max_epochs=200` reached.\n"
     ]
    },
    {
     "name": "stdout",
     "output_type": "stream",
     "text": [
      "Training finished!\n"
     ]
    }
   ],
   "source": [
    "trainer = l.Trainer(max_epochs=200, log_every_n_steps=2)\n",
    "print(\"Starting training...\")\n",
    "trainer.fit(model, train_dataloaders=dataloader)\n",
    "print(\"Training finished!\")"
   ]
  },
  {
   "cell_type": "code",
   "execution_count": 27,
   "id": "ff740ec8-bb16-4d35-9622-e86fac1db4db",
   "metadata": {},
   "outputs": [
    {
     "name": "stdout",
     "output_type": "stream",
     "text": [
      "\n",
      "Now let's compare the observed and predicted values...\n",
      "Company A: Observed = 0, Predicted =  tensor([1.9222e-05])\n",
      "\n",
      "Now let's compare the observed and predicted values...\n",
      "Company B: Observed = 1, Predicted =  tensor([0.9952])\n"
     ]
    }
   ],
   "source": [
    "print(\"\\nNow let's compare the observed and predicted values...\")  \n",
    "print(\"Company A: Observed = 0, Predicted = \", model(torch.tensor([0., 0.5, 0.25, 1.])).detach())\n",
    "print(\"\\nNow let's compare the observed and predicted values...\")\n",
    "print(\"Company B: Observed = 1, Predicted = \", model(torch.tensor([1., 0.5, 0.25, 1.])).detach())"
   ]
  },
  {
   "cell_type": "code",
   "execution_count": null,
   "id": "9d57d6e8-cf02-4cc5-8fcb-03054e1b5f6b",
   "metadata": {},
   "outputs": [],
   "source": []
  },
  {
   "cell_type": "code",
   "execution_count": null,
   "id": "c497dd8b-3b8a-4672-ba37-2e4dc3ed655f",
   "metadata": {},
   "outputs": [],
   "source": []
  }
 ],
 "metadata": {
  "kernelspec": {
   "display_name": "Python 3 (ipykernel)",
   "language": "python",
   "name": "python3"
  },
  "language_info": {
   "codemirror_mode": {
    "name": "ipython",
    "version": 3
   },
   "file_extension": ".py",
   "mimetype": "text/x-python",
   "name": "python",
   "nbconvert_exporter": "python",
   "pygments_lexer": "ipython3",
   "version": "3.12.3"
  }
 },
 "nbformat": 4,
 "nbformat_minor": 5
}
