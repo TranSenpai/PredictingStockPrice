{
 "cells": [
  {
   "cell_type": "code",
   "execution_count": 1,
   "id": "cb471e0d-4dc5-49f3-8d13-85de7f5a9d98",
   "metadata": {},
   "outputs": [],
   "source": [
    "# Installation Long Shhort-Term Memory with PyTorch + Lightning\n",
    "import torch\n",
    "import torch.nn as nn\n",
    "import torch.nn.functional as f\n",
    "from torch.optim import Adam\n",
    "import lightning as l"
   ]
  },
  {
   "cell_type": "code",
   "execution_count": 7,
   "id": "3c7f201a-d19b-4059-ae24-312ed0769506",
   "metadata": {},
   "outputs": [],
   "source": [
    "class LightningLSTMByHand(l.LightningModule):\n",
    "    def __init__(self):\n",
    "        super().__init__()\n",
    "        mean = torch.tensor(0.0)\n",
    "        std = torch.tensor(1.0)\n",
    "        \n",
    "        self.wlr1 = nn.Parameter(torch.normal(mean=mean, std=std), requires_grad=True)\n",
    "        self.wlr2 = nn.Parameter(torch.normal(mean=mean, std=std), requires_grad=True)\n",
    "        self.blr1 = nn.Parameter(torch.tensor(0.0), requires_grad=True)\n",
    "\n",
    "        self.wpr1 = nn.Parameter(torch.normal(mean=mean, std=std), requires_grad=True)\n",
    "        self.wpr2 = nn.Parameter(torch.normal(mean=mean, std=std), requires_grad=True)\n",
    "        self.bpr1 = nn.Parameter(torch.tensor(0.0), requires_grad=True)\n",
    "\n",
    "        self.wp1 = nn.Parameter(torch.normal(mean=mean, std=std), requires_grad=True)\n",
    "        self.wp2 = nn.Parameter(torch.normal(mean=mean, std=std), requires_grad=True)\n",
    "        self.bp1 = nn.Parameter(torch.tensor(0.0), requires_grad=True)\n",
    "\n",
    "        self.wo1 = nn.Parameter(torch.normal(mean=mean, std=std), requires_grad=True)\n",
    "        self.wo2 = nn.Parameter(torch.normal(mean=mean, std=std), requires_grad=True)\n",
    "        self.bo1 = nn.Parameter(torch.tensor(0.0), requires_grad=True)\n",
    "\n",
    "    def lstm_unit(self, input_value, long_memory, short_memory):\n",
    "        # Forget gate\n",
    "        long_remember_percent = torch.sigmoid((short_memory * self.wlr1) + (input_value * self.wlr2) + self.blr1)\n",
    "        forget_long_memory = long_memory * long_remember_percent\n",
    "        \n",
    "        # Input gate\n",
    "        potential_remember_percent = torch.sigmoid((short_memory * self.wpr1) + (input_value * self.wpr2) + self.bpr1)\n",
    "        potential_memory = torch.tanh((short_memory * self.wp1) + (input_value * self.wp2) + self.bp1)\n",
    "        updated_long_memory = forget_long_memory + (potential_memory * potential_remember_percent)\n",
    "\n",
    "        # Output gate\n",
    "        output_percent = torch.sigmoid((short_memory * self.wo1) + (input_value * self.wo2) + self.bo1)\n",
    "        updated_short_memory = torch.tanh(updated_long_memory) * output_percent\n",
    "\n",
    "        return updated_long_memory, updated_short_memory\n",
    "\n",
    "    def forward(self, input_sequence):\n",
    "        long_memory = torch.tensor(0.0)\n",
    "        short_memory = torch.tensor(0.0)\n",
    "\n",
    "        for t in range(len(input_sequence)):\n",
    "            input_value = input_sequence[t]\n",
    "            long_memory, short_memory = self.lstm_unit(input_value, long_memory, short_memory)\n",
    "\n",
    "        return short_memory\n",
    "\n",
    "    def configure_optimizers(self):\n",
    "        return Adam(self.parameters(), lr=0.01)\n",
    "\n",
    "    def training_step(self, batch, batch_idx):\n",
    "        input_sequence, label = batch\n",
    "        prediction = self(input_sequence[0])\n",
    "        loss = (prediction - label) ** 2\n",
    "        self.log(\"train_loss\", loss.mean(), prog_bar=True)\n",
    "        return loss\n"
   ]
  },
  {
   "cell_type": "code",
   "execution_count": 9,
   "id": "7774e0d1-8f8e-4cc5-849e-91699ad8f9e2",
   "metadata": {},
   "outputs": [
    {
     "name": "stdout",
     "output_type": "stream",
     "text": [
      "\n",
      "Now let's compare the observed and predicted values...\n",
      "Company A: Observed = 0, Predicted =  tensor(0.1177)\n"
     ]
    }
   ],
   "source": [
    "model = LightningLSTMByHand()\n",
    "print(\"\\nNow let's compare the observed and predicted values...\")\n",
    "print(\"Company A: Observed = 0, Predicted = \", model(torch.tensor([0., 0.5, 0.25, 1.])).detach())"
   ]
  },
  {
   "cell_type": "code",
   "execution_count": 11,
   "id": "db3c8d24-109a-473b-a482-712ece18f6a0",
   "metadata": {},
   "outputs": [],
   "source": [
    "from torch.utils.data import TensorDataset, DataLoader\n",
    "# Single sequence dataset (one company only)\n",
    "inputs = torch.tensor([[0.0, 0.5, 0.25, 1.0]], dtype=torch.float32)  # One sequence\n",
    "labels = torch.tensor([1.0], dtype=torch.float32)  # Single output\n",
    "\n",
    "# Prepare dataset and dataloader\n",
    "dataset = TensorDataset(inputs, labels)\n",
    "dataloader = DataLoader(dataset, batch_size=1, num_workers=0, persistent_workers=False)"
   ]
  },
  {
   "cell_type": "code",
   "execution_count": 13,
   "id": "964ae120-54de-46a2-9bb7-0f4041d06aa3",
   "metadata": {},
   "outputs": [
    {
     "name": "stderr",
     "output_type": "stream",
     "text": [
      "GPU available: False, used: False\n",
      "TPU available: False, using: 0 TPU cores\n",
      "HPU available: False, using: 0 HPUs\n"
     ]
    },
    {
     "name": "stdout",
     "output_type": "stream",
     "text": [
      "Starting training...\n"
     ]
    },
    {
     "name": "stderr",
     "output_type": "stream",
     "text": [
      "\n",
      "  | Name         | Type | Params | Mode\n",
      "---------------------------------------------\n",
      "  | other params | n/a  | 12     | n/a \n",
      "---------------------------------------------\n",
      "12        Trainable params\n",
      "0         Non-trainable params\n",
      "12        Total params\n",
      "0.000     Total estimated model params size (MB)\n",
      "0         Modules in train mode\n",
      "0         Modules in eval mode\n",
      "D:\\anaconda\\src\\Lib\\site-packages\\lightning\\pytorch\\trainer\\connectors\\data_connector.py:424: The 'train_dataloader' does not have many workers which may be a bottleneck. Consider increasing the value of the `num_workers` argument` to `num_workers=11` in the `DataLoader` to improve performance.\n"
     ]
    },
    {
     "data": {
      "application/vnd.jupyter.widget-view+json": {
       "model_id": "9de739eaa767447797baa4c1c48a81a3",
       "version_major": 2,
       "version_minor": 0
      },
      "text/plain": [
       "Training: |                                                                                      | 0/? [00:00<…"
      ]
     },
     "metadata": {},
     "output_type": "display_data"
    },
    {
     "name": "stderr",
     "output_type": "stream",
     "text": [
      "`Trainer.fit` stopped: `max_epochs=500` reached.\n"
     ]
    },
    {
     "name": "stdout",
     "output_type": "stream",
     "text": [
      "Training finished!\n"
     ]
    }
   ],
   "source": [
    "from lightning.pytorch import Trainer\n",
    "\n",
    "# Initialize the model\n",
    "model = LightningLSTMByHand()\n",
    "\n",
    "# Initialize the Trainer\n",
    "trainer = Trainer(max_epochs=500, log_every_n_steps=1)\n",
    "\n",
    "# Train the model\n",
    "print(\"Starting training...\")\n",
    "trainer.fit(model, train_dataloaders=dataloader)\n",
    "print(\"Training finished!\")\n"
   ]
  },
  {
   "cell_type": "code",
   "execution_count": null,
   "id": "59276a1b-582c-47bc-ac77-9cca0b8a5f08",
   "metadata": {},
   "outputs": [],
   "source": []
  }
 ],
 "metadata": {
  "kernelspec": {
   "display_name": "Python 3 (ipykernel)",
   "language": "python",
   "name": "python3"
  },
  "language_info": {
   "codemirror_mode": {
    "name": "ipython",
    "version": 3
   },
   "file_extension": ".py",
   "mimetype": "text/x-python",
   "name": "python",
   "nbconvert_exporter": "python",
   "pygments_lexer": "ipython3",
   "version": "3.12.3"
  }
 },
 "nbformat": 4,
 "nbformat_minor": 5
}
