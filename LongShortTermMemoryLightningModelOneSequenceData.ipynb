{
 "cells": [
  {
   "cell_type": "code",
   "execution_count": 1,
   "id": "f6750377-d972-4eb0-bbd6-562a3ff7173a",
   "metadata": {},
   "outputs": [],
   "source": [
    "# Installation Long Shhort-Term Memory with PyTorch + Lightning\n",
    "import torch\n",
    "import torch.nn as nn\n",
    "import torch.nn.functional as f\n",
    "from torch.optim import Adam\n",
    "import lightning as l\n",
    "from torch.utils.data import TensorDataset, DataLoader"
   ]
  },
  {
   "cell_type": "code",
   "execution_count": 2,
   "id": "8e2b4771-b86b-4df7-9178-02ef8f2360ca",
   "metadata": {},
   "outputs": [],
   "source": [
    "# LightningLSTM: Là lớp định nghĩa mô hình LSTM của bạn, kế thừa từ l.LightningModule (PyTorch Lightning).\n",
    "# l.LightningModule: Được thiết kế để đơn giản hóa việc huấn luyện mô hình bằng cách tích hợp việc quản lý vòng lặp huấn luyện, tối ưu hóa, và kiểm tra.\n",
    "\n",
    "# Cấu tạo của một batch\n",
    "# Trong huấn luyện mạng nơ-ron, đặc biệt là với dữ liệu chuỗi như trong LSTM, dữ liệu đầu vào không được xử lý từng mẫu riêng lẻ mà được chia thành batch. Batch là một tập hợp nhiều mẫu được xử lý cùng lúc nhằm tăng hiệu quả tính toán và ổn định trong huấn luyện.\n",
    "\n",
    "# 1. Thành phần của một batch\n",
    "# Một batch bao gồm:\n",
    "\n",
    "# (a) Input tensor (X):\n",
    "# Kích thước: ({batch_size}, {seq_length}, {input_size})\n",
    "# batch_size: Số lượng mẫu trong batch.\n",
    "# seq_length: Độ dài của chuỗi thời gian (số bước thời gian trong mỗi chuỗi).\n",
    "# input_size: Số lượng đặc trưng (features) trong mỗi bước thời gian.\n",
    "\n",
    "# (b) Target tensor (y):\n",
    "# Kích thước: ({batch_size}, {output_size})\n",
    "# batch_size: Số lượng mẫu trong batch (phải giống batch_size của X).\n",
    "# output_size: Số lượng giá trị đích (targets) cần dự đoán cho mỗi mẫu.\n",
    "\n",
    "# 2. Ví dụ cụ thể\n",
    "# Kích thước của X trong batch:\n",
    "# (32,60,1)\n",
    "# Ý nghĩa:\n",
    "# Có 32 mẫu.\n",
    "# Mỗi mẫu là một chuỗi 60 ngày.\n",
    "# Mỗi ngày chỉ có một đặc trưng (giá cổ phiếu).\n",
    "\n",
    "# Target tensor\n",
    "# Giả sử bạn muốn dự đoán giá cổ phiếu ngày thứ 61 cho mỗi chuỗi, kích thước của y sẽ là:\n",
    "# (32,1)\n",
    "# Ý nghĩa:\n",
    "\n",
    "# Có 32 giá trị đích, tương ứng với 32 mẫu trong batch.\n",
    "# Mỗi giá trị là giá cổ phiếu của ngày tiếp theo (ngày thứ 61).\n",
    "class LightningLSTM(l.LightningModule):\n",
    "    \n",
    "    # self là tham chiếu đến đối tượng hiện tại của lớp (instance of the class).\n",
    "    def __init__(self):\n",
    "        # Gọi hàm khởi tạo của lớp cha\n",
    "        super().__init__()\n",
    "        \n",
    "        # . input_size (Kích thước đầu vào)\n",
    "        # Ý nghĩa:\n",
    "        \n",
    "        # Đây là số lượng đặc trưng (features) trong mỗi thời điểm của dữ liệu chuỗi mà mô hình LSTM sẽ nhận làm đầu vào.\n",
    "        # Trong ngữ cảnh dữ liệu chuỗi thời gian, mỗi thời điểm thường chỉ có một giá trị đại diện, chẳng hạn như giá đóng cổ phiếu, nhiệt độ, hoặc bất kỳ thông số nào bạn đang dự đoán.\n",
    "        # Tại sao input_size = 1?\n",
    "        # Trong đoạn mã đang xử lý chuỗi thời gian, nơi mỗi bước thời gian có một giá trị (giá đóng cổ phiếu ở một thời điểm). Do đó, mỗi thời điểm trong chuỗi đầu vào chỉ có một đặc trưng, dẫn đến input_size = 1.\n",
    "        \n",
    "        # 2. hidden_size (Kích thước tầng ẩn)\n",
    "        # Ý nghĩa:\n",
    "        \n",
    "        # Đây là số lượng tế bào ẩn (hidden cells) trong mỗi tầng LSTM.\n",
    "        # Mỗi tế bào ẩn giữ thông tin về trạng thái tạm thời (short-term memory) và trạng thái lâu dài (long-term memory). Số lượng tế bào ẩn kiểm soát khả năng ghi nhớ của mô hình.\n",
    "        # hidden_size ảnh hưởng trực tiếp đến khả năng mô hình hóa các mẫu phức tạp trong dữ liệu chuỗi thời gian.\n",
    "        # Tại sao hidden_size = 50?\n",
    "        # Đây là một giá trị do người dùng thiết lập dựa trên kinh nghiệm hoặc thử nghiệm:\n",
    "        \n",
    "        # Giá trị lớn hơn (ví dụ, 100, 200) thường giúp mô hình học được các mẫu phức tạp hơn, nhưng đồng thời cũng làm tăng độ phức tạp tính toán và nguy cơ quá khớp (overfitting).\n",
    "        # Giá trị nhỏ hơn (ví dụ, 10, 20) có thể khiến mô hình học không đủ tốt các mẫu trong dữ liệu, dẫn đến underfitting.\n",
    "        # 50 là một lựa chọn phổ biến, cân bằng giữa khả năng học và độ phức tạp tính toán, nhất là với dữ liệu chuỗi thời gian có tính chất đơn giản hoặc trung bình.\n",
    "        # batch_first=True: Dữ liệu đầu vào có dạng (batch_size, seq_length, input_size).\n",
    "        # self.lstm: Tạo lớp LSTM tự động học trọng số (weights) và bias.\n",
    "        self.lstm = nn.LSTM(input_size = 1, hidden_size = 50, batch_first=True)\n",
    "\n",
    "        # LSTM trả về một tensor chứa thông tin thời gian, nhưng mục tiêu cuối cùng của là dự đoán một giá trị tại mỗi bước \n",
    "        # thời gian (ví dụ: giá cổ phiếu ngày tiếp theo). Để chuyển đổi từ output của LSTM (dạng vector ẩn) sang một giá trị đầu \n",
    "        # ra duy nhất, ta cần một lớp FC.\n",
    "        # nn.Linear(50, 1)\n",
    "        # Input kích thước 50: Giá trị này tương ứng với hidden_size trong lớp LSTM.\n",
    "        # Mỗi tế bào trong LSTM tạo ra 50 giá trị (vector ẩn) tại bước thời gian cuối cùng. Lớp nn.Linear sẽ nhận vector này làm đầu vào.\n",
    "        # Output kích thước 1: Muốn dự đoán một giá trị duy nhất (ví dụ: giá cổ phiếu ngày tiếp theo). Do đó, lớp FC này chuyển đổi vector \n",
    "        # ẩn kích thước 50 thành một giá trị đầu ra duy nhất.\n",
    "        self.fc = nn.Linear(50, 1)\n",
    "        \n",
    "    def forward(self, x):\n",
    "        # Pass the data to lstm and store it in lstm_out \n",
    "        lstm_out, _ = self.lstm(x)\n",
    "        # Because lstm will return a list of STM values from each LSTM unit that unrolled\n",
    "        # And we just want the last STM, we get the data from the last index  \n",
    "        # Kích thước của lstm_out[batch_size, seq_length, hidden_size]\n",
    "        # batch_size: Số lượng chuỗi trong mỗi batch (bao nhiêu mẫu được xử lý cùng lúc).\n",
    "        # seq_length: Độ dài của chuỗi thời gian.\n",
    "        # hidden_size: Số lượng giá trị ẩn (output features) tại mỗi bước thời gian.\n",
    "        # : là lấy hết, -1 là lấy phần tử cuối cùng\n",
    "        prediction = self.fc(lstm_out[:, -1, :])\n",
    "        return prediction\n",
    "\n",
    "    def configure_optimizers(self):\n",
    "        # Use Adam to optimize the weight and bias\n",
    "        # self.parameters(): Lấy tất cả các tham số của mô hình (LSTM và FC).\n",
    "        # lr is learning rate\n",
    "        return Adam(self.parameters(), lr = 0.001)\n",
    "        \n",
    "    # Nhận 1 batch từ train_loader và index của batch đó\n",
    "    def training_step(self, batch, batch_idx):\n",
    "        x, y = batch\n",
    "        y_pred = self(x)\n",
    "        # Sử dụng hàm Mean Squared Error (MSE) để tính lỗi giữa giá trị dự đoán (y_pred) và giá trị thực (y).\n",
    "        loss = nn.MSELoss()(y_pred, y)\n",
    "        self.log(\"train_loss\", loss)\n",
    "        return loss\n",
    "        \n",
    "    # Hoạt động tương tự như training_step, nhưng dành cho dữ liệu kiểm tra (validation data).\n",
    "    def validation_step(self, batch, batch_idx):\n",
    "        x, y = batch\n",
    "        y_pred = self(x)\n",
    "        loss = nn.MSELoss()(y_pred, y)\n",
    "        self.log(\"val_loss\", loss)\n",
    "        return loss"
   ]
  },
  {
   "cell_type": "code",
   "execution_count": 3,
   "id": "3005ea8a-7d61-4321-a984-33dbae8dd471",
   "metadata": {},
   "outputs": [],
   "source": [
    "import numpy as np\n",
    "import matplotlib.pyplot as plt\n",
    "import pandas as pd"
   ]
  },
  {
   "cell_type": "code",
   "execution_count": 4,
   "id": "bbda581f-c5d3-433c-9ae8-3c723d2cf6ab",
   "metadata": {},
   "outputs": [],
   "source": [
    "# Xử lý dữ liệu tương tự file 1\n",
    "def create_sequences(data, seq_length):\n",
    "    X, y = [], []\n",
    "    for i in range(seq_length, len(data)):\n",
    "        X.append(data[i-seq_length:i])\n",
    "        y.append(data[i])\n",
    "    return np.array(X), np.array(y)"
   ]
  },
  {
   "cell_type": "code",
   "execution_count": 5,
   "id": "f29dcd00-115e-401d-8ae0-48d3d8446355",
   "metadata": {},
   "outputs": [],
   "source": [
    "from sklearn.preprocessing import MinMaxScaler\n",
    "from sklearn.metrics import mean_squared_error\n",
    "apple = pd.read_csv('archive/stocks/AAPL.csv')\n",
    "scaler = MinMaxScaler()\n",
    "\n",
    "scaled_data = scaler.fit_transform(apple[['Close']])"
   ]
  },
  {
   "cell_type": "code",
   "execution_count": 6,
   "id": "de0afcaf-6cbd-40c7-a8ed-6ea6fa4d54d5",
   "metadata": {},
   "outputs": [],
   "source": [
    "seq_length = 60  \n",
    "X, y = create_sequences(scaled_data, seq_length)"
   ]
  },
  {
   "cell_type": "code",
   "execution_count": 7,
   "id": "2db6b633-fe5e-483f-ae2b-3e0d05c3e8c5",
   "metadata": {},
   "outputs": [],
   "source": [
    "# Chuyển mảng sang tensor\n",
    "X_tensor = torch.tensor(X, dtype=torch.float32)\n",
    "y_tensor = torch.tensor(y, dtype=torch.float32)"
   ]
  },
  {
   "cell_type": "code",
   "execution_count": 8,
   "id": "04a23060-5112-4dbd-8ee8-4391583b713b",
   "metadata": {},
   "outputs": [],
   "source": [
    "# TensorDataset là một class của PyTorch để đóng gói các torch.Tensor thành một dataset.\n",
    "# Nó kết hợp các tensor X_tensor (dữ liệu đầu vào) và y_tensor (nhãn) lại thành một cặp (input, label).\n",
    "# Giúp quản lý dữ liệu dễ dàng hơn, đặc biệt khi cần phân chia dữ liệu hoặc tạo các batch.\n",
    "dataset = TensorDataset(X_tensor, y_tensor)\n",
    "\n",
    "# Tính toán kích thước của tập huấn luyện, chiếm 80% số lượng dữ liệu (len(X)).\n",
    "# Kích thước tập kiểm tra (test_size) sẽ là phần còn lại (20%).\n",
    "train_size = int(len(X) * 0.8)\n",
    "\n",
    "# Hàm random_split nhận hai đối số chính:\n",
    "# dataset: Tập dữ liệu gốc (toàn bộ dữ liệu được gói trong TensorDataset).\n",
    "# [train_size, len(dataset) - train_size]: Một danh sách chứa kích thước tương ứng cho tập huấn luyện (train_dataset) và tập kiểm tra (test_dataset).\n",
    "# Dùng hàm random_split của PyTorch để chia dataset (tập dữ liệu gốc) thành hai phần:\n",
    "# train_dataset: Tập huấn luyện, có train_size mẫu.\n",
    "# test_dataset: Tập kiểm tra, có len(dataset) - train_size mẫu.\n",
    "# Dữ liệu được chia ngẫu nhiên, không có thứ tự cố định.\n",
    "train_dataset, test_dataset = torch.utils.data.random_split(dataset, [train_size, len(dataset) - train_size])\n",
    "\n",
    "\n",
    "# Tạo một DataLoader cho tập huấn luyện train_dataset.\n",
    "# Các tham số:\n",
    "# batch_size=32: Chia dữ liệu thành các batch (lô) có kích thước 32. Điều này giúp xử lý dữ liệu theo từng nhóm nhỏ thay vì toàn bộ dữ liệu một lần.\n",
    "# shuffle=True: Ngẫu nhiên hóa thứ tự dữ liệu trong mỗi epoch, giúp mô hình không bị học theo thứ tự dữ liệu.\n",
    "# num_workers=4: Sử dụng 4 luồng (workers) để tải dữ liệu song song, giúp tăng tốc độ tải.\n",
    "# persistent_workers=True: Giữ các workers hoạt động trong suốt quá trình huấn luyện để tăng hiệu suất khi huấn luyện nhiều epoch.\n",
    "# Lý do sử dụng:\n",
    "# Tạo batch dữ liệu nhỏ, giúp huấn luyện hiệu quả và tận dụng được khả năng tính toán song song.\n",
    "train_loader = DataLoader(train_dataset, batch_size=32, shuffle=True, num_workers=4, persistent_workers=True)\n",
    "\n",
    "# Ý nghĩa:\n",
    "# Tương tự train_loader, nhưng dành cho tập kiểm tra test_dataset.\n",
    "# Khác biệt chính:\n",
    "# shuffle=False: Không ngẫu nhiên hóa dữ liệu kiểm tra vì thứ tự kiểm tra không quan trọng.\n",
    "# Lý do sử dụng:\n",
    "# Đảm bảo tập kiểm tra được chia thành các batch và được xử lý tuần tự để đánh giá mô hình.\n",
    "test_loader = DataLoader(test_dataset, batch_size=32, shuffle=False, num_workers=4, persistent_workers=True)"
   ]
  },
  {
   "cell_type": "code",
   "execution_count": 23,
   "id": "17cdc938-b17b-49f6-8bbb-618b6fe1377d",
   "metadata": {},
   "outputs": [
    {
     "name": "stderr",
     "output_type": "stream",
     "text": [
      "GPU available: False, used: False\n",
      "TPU available: False, using: 0 TPU cores\n",
      "HPU available: False, using: 0 HPUs\n",
      "\n",
      "  | Name | Type   | Params | Mode \n",
      "----------------------------------------\n",
      "0 | lstm | LSTM   | 10.6 K | train\n",
      "1 | fc   | Linear | 51     | train\n",
      "----------------------------------------\n",
      "10.7 K    Trainable params\n",
      "0         Non-trainable params\n",
      "10.7 K    Total params\n",
      "0.043     Total estimated model params size (MB)\n",
      "2         Modules in train mode\n",
      "0         Modules in eval mode\n"
     ]
    },
    {
     "data": {
      "application/vnd.jupyter.widget-view+json": {
       "model_id": "42affc834eff4e64b405c6a0daf36436",
       "version_major": 2,
       "version_minor": 0
      },
      "text/plain": [
       "Sanity Checking: |                                                                               | 0/? [00:00<…"
      ]
     },
     "metadata": {},
     "output_type": "display_data"
    },
    {
     "data": {
      "application/vnd.jupyter.widget-view+json": {
       "model_id": "742020db87ed493dbe32ced53cf1cdcc",
       "version_major": 2,
       "version_minor": 0
      },
      "text/plain": [
       "Training: |                                                                                      | 0/? [00:00<…"
      ]
     },
     "metadata": {},
     "output_type": "display_data"
    },
    {
     "data": {
      "application/vnd.jupyter.widget-view+json": {
       "model_id": "728cd3468128424aafbedfc93b336e52",
       "version_major": 2,
       "version_minor": 0
      },
      "text/plain": [
       "Validation: |                                                                                    | 0/? [00:00<…"
      ]
     },
     "metadata": {},
     "output_type": "display_data"
    },
    {
     "data": {
      "application/vnd.jupyter.widget-view+json": {
       "model_id": "0c731f95dded43c3b791248e0422976e",
       "version_major": 2,
       "version_minor": 0
      },
      "text/plain": [
       "Validation: |                                                                                    | 0/? [00:00<…"
      ]
     },
     "metadata": {},
     "output_type": "display_data"
    },
    {
     "data": {
      "application/vnd.jupyter.widget-view+json": {
       "model_id": "349a2dece14848dcac0285cf23b23abe",
       "version_major": 2,
       "version_minor": 0
      },
      "text/plain": [
       "Validation: |                                                                                    | 0/? [00:00<…"
      ]
     },
     "metadata": {},
     "output_type": "display_data"
    },
    {
     "data": {
      "application/vnd.jupyter.widget-view+json": {
       "model_id": "71321e7e9623464c9c82608a395742e9",
       "version_major": 2,
       "version_minor": 0
      },
      "text/plain": [
       "Validation: |                                                                                    | 0/? [00:00<…"
      ]
     },
     "metadata": {},
     "output_type": "display_data"
    },
    {
     "data": {
      "application/vnd.jupyter.widget-view+json": {
       "model_id": "7aff516e7e7e45b1a780329f7b0a824e",
       "version_major": 2,
       "version_minor": 0
      },
      "text/plain": [
       "Validation: |                                                                                    | 0/? [00:00<…"
      ]
     },
     "metadata": {},
     "output_type": "display_data"
    },
    {
     "data": {
      "application/vnd.jupyter.widget-view+json": {
       "model_id": "c6fe00e8002941fe8439a6ff1e1a0bd9",
       "version_major": 2,
       "version_minor": 0
      },
      "text/plain": [
       "Validation: |                                                                                    | 0/? [00:00<…"
      ]
     },
     "metadata": {},
     "output_type": "display_data"
    },
    {
     "data": {
      "application/vnd.jupyter.widget-view+json": {
       "model_id": "f28381b34f2f44ba965e4fc408c48a82",
       "version_major": 2,
       "version_minor": 0
      },
      "text/plain": [
       "Validation: |                                                                                    | 0/? [00:00<…"
      ]
     },
     "metadata": {},
     "output_type": "display_data"
    },
    {
     "data": {
      "application/vnd.jupyter.widget-view+json": {
       "model_id": "968e6807024745f69ea22310089d8057",
       "version_major": 2,
       "version_minor": 0
      },
      "text/plain": [
       "Validation: |                                                                                    | 0/? [00:00<…"
      ]
     },
     "metadata": {},
     "output_type": "display_data"
    },
    {
     "data": {
      "application/vnd.jupyter.widget-view+json": {
       "model_id": "896db393daa741b5a23988c919154315",
       "version_major": 2,
       "version_minor": 0
      },
      "text/plain": [
       "Validation: |                                                                                    | 0/? [00:00<…"
      ]
     },
     "metadata": {},
     "output_type": "display_data"
    },
    {
     "data": {
      "application/vnd.jupyter.widget-view+json": {
       "model_id": "c08e31d2eaee4c7787e3301e539b1cae",
       "version_major": 2,
       "version_minor": 0
      },
      "text/plain": [
       "Validation: |                                                                                    | 0/? [00:00<…"
      ]
     },
     "metadata": {},
     "output_type": "display_data"
    },
    {
     "data": {
      "application/vnd.jupyter.widget-view+json": {
       "model_id": "948fe184f6964f498010c6161c7290c4",
       "version_major": 2,
       "version_minor": 0
      },
      "text/plain": [
       "Validation: |                                                                                    | 0/? [00:00<…"
      ]
     },
     "metadata": {},
     "output_type": "display_data"
    },
    {
     "data": {
      "application/vnd.jupyter.widget-view+json": {
       "model_id": "937a8d86b00d47cd8ca0c096fa389688",
       "version_major": 2,
       "version_minor": 0
      },
      "text/plain": [
       "Validation: |                                                                                    | 0/? [00:00<…"
      ]
     },
     "metadata": {},
     "output_type": "display_data"
    },
    {
     "data": {
      "application/vnd.jupyter.widget-view+json": {
       "model_id": "4702c49c0dad46af964aeb59499b9a53",
       "version_major": 2,
       "version_minor": 0
      },
      "text/plain": [
       "Validation: |                                                                                    | 0/? [00:00<…"
      ]
     },
     "metadata": {},
     "output_type": "display_data"
    },
    {
     "data": {
      "application/vnd.jupyter.widget-view+json": {
       "model_id": "1e9acd555b544a88bbf34f37e33cb7f1",
       "version_major": 2,
       "version_minor": 0
      },
      "text/plain": [
       "Validation: |                                                                                    | 0/? [00:00<…"
      ]
     },
     "metadata": {},
     "output_type": "display_data"
    },
    {
     "data": {
      "application/vnd.jupyter.widget-view+json": {
       "model_id": "810f5dde3d0d42d898a349edd3914213",
       "version_major": 2,
       "version_minor": 0
      },
      "text/plain": [
       "Validation: |                                                                                    | 0/? [00:00<…"
      ]
     },
     "metadata": {},
     "output_type": "display_data"
    },
    {
     "data": {
      "application/vnd.jupyter.widget-view+json": {
       "model_id": "ff7c341eea8f4f11bf407ba069e346f4",
       "version_major": 2,
       "version_minor": 0
      },
      "text/plain": [
       "Validation: |                                                                                    | 0/? [00:00<…"
      ]
     },
     "metadata": {},
     "output_type": "display_data"
    },
    {
     "data": {
      "application/vnd.jupyter.widget-view+json": {
       "model_id": "3f52e32806df4b61953520e2d583e70f",
       "version_major": 2,
       "version_minor": 0
      },
      "text/plain": [
       "Validation: |                                                                                    | 0/? [00:00<…"
      ]
     },
     "metadata": {},
     "output_type": "display_data"
    },
    {
     "data": {
      "application/vnd.jupyter.widget-view+json": {
       "model_id": "9314e9f7a13c4de58f1a4885ceaae27c",
       "version_major": 2,
       "version_minor": 0
      },
      "text/plain": [
       "Validation: |                                                                                    | 0/? [00:00<…"
      ]
     },
     "metadata": {},
     "output_type": "display_data"
    },
    {
     "data": {
      "application/vnd.jupyter.widget-view+json": {
       "model_id": "5370fc7ad05844078386760d93b60e51",
       "version_major": 2,
       "version_minor": 0
      },
      "text/plain": [
       "Validation: |                                                                                    | 0/? [00:00<…"
      ]
     },
     "metadata": {},
     "output_type": "display_data"
    },
    {
     "data": {
      "application/vnd.jupyter.widget-view+json": {
       "model_id": "25cc2a638076418fa2170c6e1d7df131",
       "version_major": 2,
       "version_minor": 0
      },
      "text/plain": [
       "Validation: |                                                                                    | 0/? [00:00<…"
      ]
     },
     "metadata": {},
     "output_type": "display_data"
    },
    {
     "data": {
      "application/vnd.jupyter.widget-view+json": {
       "model_id": "320d1754730f45d9a09e286ebad28259",
       "version_major": 2,
       "version_minor": 0
      },
      "text/plain": [
       "Validation: |                                                                                    | 0/? [00:00<…"
      ]
     },
     "metadata": {},
     "output_type": "display_data"
    },
    {
     "data": {
      "application/vnd.jupyter.widget-view+json": {
       "model_id": "4063f7e5366a4dd4a2e3f1883dc5966c",
       "version_major": 2,
       "version_minor": 0
      },
      "text/plain": [
       "Validation: |                                                                                    | 0/? [00:00<…"
      ]
     },
     "metadata": {},
     "output_type": "display_data"
    },
    {
     "data": {
      "application/vnd.jupyter.widget-view+json": {
       "model_id": "bf80e1e8fa044fce9a1b3f3a50020f30",
       "version_major": 2,
       "version_minor": 0
      },
      "text/plain": [
       "Validation: |                                                                                    | 0/? [00:00<…"
      ]
     },
     "metadata": {},
     "output_type": "display_data"
    },
    {
     "data": {
      "application/vnd.jupyter.widget-view+json": {
       "model_id": "40a1beb1ef2a492d9a57725a2c337705",
       "version_major": 2,
       "version_minor": 0
      },
      "text/plain": [
       "Validation: |                                                                                    | 0/? [00:00<…"
      ]
     },
     "metadata": {},
     "output_type": "display_data"
    },
    {
     "data": {
      "application/vnd.jupyter.widget-view+json": {
       "model_id": "8b60668793db4c5093c1c4a34bea5323",
       "version_major": 2,
       "version_minor": 0
      },
      "text/plain": [
       "Validation: |                                                                                    | 0/? [00:00<…"
      ]
     },
     "metadata": {},
     "output_type": "display_data"
    },
    {
     "data": {
      "application/vnd.jupyter.widget-view+json": {
       "model_id": "238ae4a6306d4d6fa8068da4f5fae2e7",
       "version_major": 2,
       "version_minor": 0
      },
      "text/plain": [
       "Validation: |                                                                                    | 0/? [00:00<…"
      ]
     },
     "metadata": {},
     "output_type": "display_data"
    },
    {
     "data": {
      "application/vnd.jupyter.widget-view+json": {
       "model_id": "c6cb49cedd464248b42d6c8ba118cc3d",
       "version_major": 2,
       "version_minor": 0
      },
      "text/plain": [
       "Validation: |                                                                                    | 0/? [00:00<…"
      ]
     },
     "metadata": {},
     "output_type": "display_data"
    },
    {
     "data": {
      "application/vnd.jupyter.widget-view+json": {
       "model_id": "98c36bc9c69d42d6912a85fc17f7d3dc",
       "version_major": 2,
       "version_minor": 0
      },
      "text/plain": [
       "Validation: |                                                                                    | 0/? [00:00<…"
      ]
     },
     "metadata": {},
     "output_type": "display_data"
    },
    {
     "data": {
      "application/vnd.jupyter.widget-view+json": {
       "model_id": "c1f5c7671b0546da869fd1db9660d795",
       "version_major": 2,
       "version_minor": 0
      },
      "text/plain": [
       "Validation: |                                                                                    | 0/? [00:00<…"
      ]
     },
     "metadata": {},
     "output_type": "display_data"
    },
    {
     "data": {
      "application/vnd.jupyter.widget-view+json": {
       "model_id": "8ac8bb227653461287880d9bbeedadfe",
       "version_major": 2,
       "version_minor": 0
      },
      "text/plain": [
       "Validation: |                                                                                    | 0/? [00:00<…"
      ]
     },
     "metadata": {},
     "output_type": "display_data"
    },
    {
     "data": {
      "application/vnd.jupyter.widget-view+json": {
       "model_id": "b10ffcf63e1442568f0bf5298ec9bc41",
       "version_major": 2,
       "version_minor": 0
      },
      "text/plain": [
       "Validation: |                                                                                    | 0/? [00:00<…"
      ]
     },
     "metadata": {},
     "output_type": "display_data"
    },
    {
     "data": {
      "application/vnd.jupyter.widget-view+json": {
       "model_id": "999605bfe75c4e0a8c88c3b69dc30f9c",
       "version_major": 2,
       "version_minor": 0
      },
      "text/plain": [
       "Validation: |                                                                                    | 0/? [00:00<…"
      ]
     },
     "metadata": {},
     "output_type": "display_data"
    },
    {
     "data": {
      "application/vnd.jupyter.widget-view+json": {
       "model_id": "615960531f28478bbc00b0afd0191d0b",
       "version_major": 2,
       "version_minor": 0
      },
      "text/plain": [
       "Validation: |                                                                                    | 0/? [00:00<…"
      ]
     },
     "metadata": {},
     "output_type": "display_data"
    },
    {
     "data": {
      "application/vnd.jupyter.widget-view+json": {
       "model_id": "1a67d5008d9c42f79899b57247f3ef8d",
       "version_major": 2,
       "version_minor": 0
      },
      "text/plain": [
       "Validation: |                                                                                    | 0/? [00:00<…"
      ]
     },
     "metadata": {},
     "output_type": "display_data"
    },
    {
     "data": {
      "application/vnd.jupyter.widget-view+json": {
       "model_id": "c78a6c7b42ae46a0aa6be46c635a86b7",
       "version_major": 2,
       "version_minor": 0
      },
      "text/plain": [
       "Validation: |                                                                                    | 0/? [00:00<…"
      ]
     },
     "metadata": {},
     "output_type": "display_data"
    },
    {
     "data": {
      "application/vnd.jupyter.widget-view+json": {
       "model_id": "013d21b590c842fe9130f98175acd45b",
       "version_major": 2,
       "version_minor": 0
      },
      "text/plain": [
       "Validation: |                                                                                    | 0/? [00:00<…"
      ]
     },
     "metadata": {},
     "output_type": "display_data"
    },
    {
     "data": {
      "application/vnd.jupyter.widget-view+json": {
       "model_id": "032018e113ee4d9eb41d1f563aacf701",
       "version_major": 2,
       "version_minor": 0
      },
      "text/plain": [
       "Validation: |                                                                                    | 0/? [00:00<…"
      ]
     },
     "metadata": {},
     "output_type": "display_data"
    },
    {
     "data": {
      "application/vnd.jupyter.widget-view+json": {
       "model_id": "d2ac568d2fed47789bb35de2ce178447",
       "version_major": 2,
       "version_minor": 0
      },
      "text/plain": [
       "Validation: |                                                                                    | 0/? [00:00<…"
      ]
     },
     "metadata": {},
     "output_type": "display_data"
    },
    {
     "data": {
      "application/vnd.jupyter.widget-view+json": {
       "model_id": "96dc2553334643de8f330fe4eba24add",
       "version_major": 2,
       "version_minor": 0
      },
      "text/plain": [
       "Validation: |                                                                                    | 0/? [00:00<…"
      ]
     },
     "metadata": {},
     "output_type": "display_data"
    },
    {
     "data": {
      "application/vnd.jupyter.widget-view+json": {
       "model_id": "94fd8723aaa64bd69d843c0531b306a8",
       "version_major": 2,
       "version_minor": 0
      },
      "text/plain": [
       "Validation: |                                                                                    | 0/? [00:00<…"
      ]
     },
     "metadata": {},
     "output_type": "display_data"
    },
    {
     "data": {
      "application/vnd.jupyter.widget-view+json": {
       "model_id": "940ff6bd83764d3e8bf861c783b63d73",
       "version_major": 2,
       "version_minor": 0
      },
      "text/plain": [
       "Validation: |                                                                                    | 0/? [00:00<…"
      ]
     },
     "metadata": {},
     "output_type": "display_data"
    },
    {
     "data": {
      "application/vnd.jupyter.widget-view+json": {
       "model_id": "b91657cdb6be4233be58e52b382109ae",
       "version_major": 2,
       "version_minor": 0
      },
      "text/plain": [
       "Validation: |                                                                                    | 0/? [00:00<…"
      ]
     },
     "metadata": {},
     "output_type": "display_data"
    },
    {
     "data": {
      "application/vnd.jupyter.widget-view+json": {
       "model_id": "aaa0df7a0b8a4d909671510c50bc49e7",
       "version_major": 2,
       "version_minor": 0
      },
      "text/plain": [
       "Validation: |                                                                                    | 0/? [00:00<…"
      ]
     },
     "metadata": {},
     "output_type": "display_data"
    },
    {
     "data": {
      "application/vnd.jupyter.widget-view+json": {
       "model_id": "17b3e754bd7e4555886850fed6638171",
       "version_major": 2,
       "version_minor": 0
      },
      "text/plain": [
       "Validation: |                                                                                    | 0/? [00:00<…"
      ]
     },
     "metadata": {},
     "output_type": "display_data"
    },
    {
     "data": {
      "application/vnd.jupyter.widget-view+json": {
       "model_id": "4ae3b25852c04853b1171cdc06b981d3",
       "version_major": 2,
       "version_minor": 0
      },
      "text/plain": [
       "Validation: |                                                                                    | 0/? [00:00<…"
      ]
     },
     "metadata": {},
     "output_type": "display_data"
    },
    {
     "data": {
      "application/vnd.jupyter.widget-view+json": {
       "model_id": "1d54e5a77b69474aa59ea835cfd36a2b",
       "version_major": 2,
       "version_minor": 0
      },
      "text/plain": [
       "Validation: |                                                                                    | 0/? [00:00<…"
      ]
     },
     "metadata": {},
     "output_type": "display_data"
    },
    {
     "data": {
      "application/vnd.jupyter.widget-view+json": {
       "model_id": "4865d1558c8d4b1f94c406e3405fe3fb",
       "version_major": 2,
       "version_minor": 0
      },
      "text/plain": [
       "Validation: |                                                                                    | 0/? [00:00<…"
      ]
     },
     "metadata": {},
     "output_type": "display_data"
    },
    {
     "data": {
      "application/vnd.jupyter.widget-view+json": {
       "model_id": "d4484204db874ce78aadf985f0d6af5a",
       "version_major": 2,
       "version_minor": 0
      },
      "text/plain": [
       "Validation: |                                                                                    | 0/? [00:00<…"
      ]
     },
     "metadata": {},
     "output_type": "display_data"
    },
    {
     "data": {
      "application/vnd.jupyter.widget-view+json": {
       "model_id": "ad5fc2e90c3f482b82ad9edc0aa0a91d",
       "version_major": 2,
       "version_minor": 0
      },
      "text/plain": [
       "Validation: |                                                                                    | 0/? [00:00<…"
      ]
     },
     "metadata": {},
     "output_type": "display_data"
    },
    {
     "data": {
      "application/vnd.jupyter.widget-view+json": {
       "model_id": "b7c6b39082514823a2b9128be3b5d76c",
       "version_major": 2,
       "version_minor": 0
      },
      "text/plain": [
       "Validation: |                                                                                    | 0/? [00:00<…"
      ]
     },
     "metadata": {},
     "output_type": "display_data"
    },
    {
     "name": "stderr",
     "output_type": "stream",
     "text": [
      "`Trainer.fit` stopped: `max_epochs=50` reached.\n"
     ]
    }
   ],
   "source": [
    "# Training model LSTM\n",
    "model = LightningLSTM()\n",
    "\n",
    "#  Tạo một `Trainer` từ PyTorch Lightning, chịu trách nhiệm quản lý quá trình huấn luyện mô hình.\n",
    "# max_epochs=50: Số lượng epochs (chu kỳ) mà mô hình sẽ được huấn luyện. Một epoch là khi toàn bộ tập dữ liệu huấn luyện được đưa qua mô hình một lần.\n",
    "# log_every_n_steps=1: Ghi log sau mỗi bước cập nhật mô hình (mỗi batch). Điều này giúp theo dõi quá trình huấn luyện chi tiết.\n",
    "trainer = l.Trainer(max_epochs=50, log_every_n_steps=1)\n",
    "\n",
    "# model: Mô hình LightningLSTM cần được huấn luyện.\n",
    "# train_loader: Bộ dữ liệu huấn luyện, đã được chia thành các batch và cung cấp qua DataLoader.\n",
    "# test_loader: Bộ dữ liệu kiểm tra (validation set), dùng để kiểm tra mô hình sau mỗi epoch.\n",
    "trainer.fit(model, train_loader, test_loader)"
   ]
  },
  {
   "cell_type": "code",
   "execution_count": 25,
   "id": "956d6124-d74a-4bd0-80a7-80183f65882c",
   "metadata": {},
   "outputs": [],
   "source": [
    "# Dự đoán và trực quan hóa\n",
    "# Đưa mô hình vào chế độ evaluation (kiểm tra/dự đoán).\n",
    "# Trong chế độ này, các cơ chế như dropout hoặc batch normalization sẽ bị vô hiệu hóa.\n",
    "# Điều này giúp đảm bảo kết quả dự đoán nhất quán, không thay đổi giữa các lần chạy.\n",
    "model.eval()\n",
    "\n",
    "# Tạo hai danh sách trống để lưu kết quả:\n",
    "# predicted: Lưu các giá trị mà mô hình dự đoán.\n",
    "# actual: Lưu các giá trị thực tế từ tập kiểm tra (test_loader).\n",
    "predicted = []\n",
    "actual = []\n",
    "# Vô hiệu hóa tính năng ghi nhận lịch sử gradient trong PyTorch.\n",
    "# Khi kiểm tra hoặc dự đoán, ta không cần tính toán gradient, giúp tiết kiệm bộ nhớ và tăng tốc độ tính toán.\n",
    "# Mọi phép tính trong khối này sẽ không yêu cầu ghi nhớ gradient.\n",
    "# Việc tối ưu hóa đã được hoàn thành ở bước training rồi.\n",
    "with torch.no_grad():\n",
    "    # Với mỗi batch (tập dữ liệu) trong test_loader (tập dữ liệu trong test_loader được chia nhỏ thành các batch)\n",
    "    for batch in test_loader:\n",
    "        # Mỗi bactch sẽ gồm chuỗi X (chuỗi data mà model nhìn vào) và giá trị thực tế ngày cần dự đoán \n",
    "        x, y = batch\n",
    "        # Lấy kết quả dự đoán model\n",
    "        y_pred = model(x) \n",
    "        \n",
    "        # Tạo 1 danh sách để lưu các giá trị dự đoán\n",
    "        # y_pred.squeeze(): Loại bỏ chiều dư thừa của tensor, nếu có (ví dụ, từ [batch_size, 1] thành [batch_size]).\n",
    "        # tolist(): Chuyển tensor PyTorch thành danh sách Python.\n",
    "        predicted.extend(y_pred.squeeze().tolist())\n",
    "\n",
    "        # Thêm các giá trị thực tế từ y vào danh sách actual.\n",
    "        actual.extend(y.squeeze().tolist())\n",
    "        \n",
    "# Chuyển giá trị dự đoán từ phạm vi đã chuẩn hóa (scaled range) về giá trị gốc ban đầu.\n",
    "# np.array(predicted): Chuyển danh sách predicted thành một mảng numpy.\n",
    "# .reshape(-1, 1): Định dạng lại mảng thành cột vector với kích thước [n_samples, 1]. \n",
    "# reshape là một phương thức trong NumPy cho phép thay đổi kích thước (shape) của mảng (array) mà không làm thay đổi dữ liệu.\n",
    "#  Tham số của reshape\n",
    "# reshape(new_rows, new_cols): Quy định số hàng (rows) và số cột (cols) của mảng đầu ra.\n",
    "# -1: Là một giá trị đặc biệt, yêu cầu NumPy tự tính toán số hàng hoặc số cột dựa trên kích thước tổng thể của mảng.\n",
    "# scaler.inverse_transform(): Dùng bộ biến đổi (scaler) để chuyển giá trị từ dạng chuẩn hóa (normalized) về giá trị ban đầu.\n",
    "predicted = scaler.inverse_transform(np.array(predicted).reshape(-1, 1))\n",
    "actual = scaler.inverse_transform(np.array(actual).reshape(-1, 1))"
   ]
  },
  {
   "cell_type": "code",
   "execution_count": 31,
   "id": "3026ff2d-dabd-4380-8a5c-1a9b446bf215",
   "metadata": {},
   "outputs": [
    {
     "data": {
      "image/png": "[encoded data removed]",
      "text/plain": [
       "<Figure size 1000x600 with 1 Axes>"
      ]
     },
     "metadata": {},
     "output_type": "display_data"
    }
   ],
   "source": [
    "# Trực quan hóa bằng biểu đồ cột\n",
    "plt.figure(figsize=(10, 6))\n",
    "plt.plot(actual, label=\"Actual\")\n",
    "plt.plot(predicted, label=\"Predicted\")\n",
    "plt.title(\"LSTM Stock Price Prediction\")\n",
    "plt.xlabel(\"Time\")\n",
    "plt.ylabel(\"Price\")\n",
    "plt.legend()\n",
    "plt.show()"
   ]
  },
  {
   "cell_type": "code",
   "execution_count": 1,
   "id": "7d71185b-4f31-4762-a02f-1cff4b2f3306",
   "metadata": {},
   "outputs": [],
   "source": [
    "# Đánh giá mô hình LSTM:"
   ]
  },
  {
   "cell_type": "code",
   "execution_count": 3,
   "id": "0615e8a1-a97b-4ec8-8d66-b0924c178cc7",
   "metadata": {},
   "outputs": [],
   "source": [
    "# 1. Mean Absolute Error (MAE): Trung bình độ lệch tuyệt đối giữa giá trị dự đoán và giá trị thực tế.\n",
    "# 2. Mean Squared Error (MSE): Trung bình bình phương sai số giữa giá trị dự đoán và thực tế.\n",
    "# 3. Root Mean Squared Error (RMSE): Căn bậc hai của MSE, giúp trực quan hóa sai số.\n",
    "# 4. Mean Absolute Percentage Error (MAPE): Tỷ lệ sai số trung bình so với giá trị thực tế (phần trăm).\n",
    "# 5. R-squared (R²): Đánh giá mức độ phù hợp của mô hình.\n",
    "import numpy as np"
   ]
  },
  {
   "cell_type": "code",
   "execution_count": 5,
   "id": "bc3ef592-0cca-4d53-b9e3-65ebc38aabdc",
   "metadata": {},
   "outputs": [],
   "source": [
    "def calculate_matrics(y_true, y_pred):\n",
    "    mae = np.mean(np.abs(y_true - y_pred))\n",
    "    mse = np.mse((y_true - y_pred) ** 2)\n",
    "    rmse = np.sqrt(mse)\n",
    "    mape = np.mean(np.abs((y_true - y_pred) / y_true)) * 100\n",
    "    return {\n",
    "        \"MAE\" : mae,\n",
    "        \"MSE\" : mse,\n",
    "        \"RMSE\" : rmse,\n",
    "        \"MAPE (%)\" : mape\n",
    "    }"
   ]
  },
  {
   "cell_type": "code",
   "execution_count": null,
   "id": "01250bfa-c396-4488-b782-050c94a04ca2",
   "metadata": {},
   "outputs": [],
   "source": [
    "metrics = calculate_matrics(actual, predicted)\n",
    "\n",
    "for key, value in metrics.items():\n",
    "    print(f\"{key}: {value}\")"
   ]
  }
 ],
 "metadata": {
  "kernelspec": {
   "display_name": "Python 3 (ipykernel)",
   "language": "python",
   "name": "python3"
  },
  "language_info": {
   "codemirror_mode": {
    "name": "ipython",
    "version": 3
   },
   "file_extension": ".py",
   "mimetype": "text/x-python",
   "name": "python",
   "nbconvert_exporter": "python",
   "pygments_lexer": "ipython3",
   "version": "3.12.3"
  }
 },
 "nbformat": 4,
 "nbformat_minor": 5
}
